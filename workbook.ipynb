{
 "cells": [
  {
   "cell_type": "code",
   "execution_count": 1,
   "id": "6d9934c8",
   "metadata": {},
   "outputs": [],
   "source": [
    "import scispacy\n",
    "import spacy\n",
    "from scispacy.linking import EntityLinker\n",
    "import owlready2"
   ]
  },
  {
   "cell_type": "code",
   "execution_count": 2,
   "id": "41c3a61e",
   "metadata": {},
   "outputs": [],
   "source": [
    "nlp = spacy.load(\"en_core_sci_lg\")"
   ]
  },
  {
   "cell_type": "code",
   "execution_count": null,
   "id": "2eae279d",
   "metadata": {},
   "outputs": [
    {
     "name": "stdout",
     "output_type": "stream",
     "text": [
      "https://s3-us-west-2.amazonaws.com/ai2-s2-scispacy/data/linkers/2020-10-09/umls/tfidf_vectorizer.joblib not found in cache, downloading to /tmp/tmpx3c1m0ln\n",
      "Finished download, copying /tmp/tmpx3c1m0ln to cache at /home/azhx/.scispacy/datasets/8c32f1e7ddf19ec695c321f68a71f06a191aec8efcf6b645b78fa6250d8d81d3.89019b4a62a096f33ea23677557a4cde66ebc8228f30afabac38e32f834020dc.tfidf_vectorizer.joblib\n"
     ]
    },
    {
     "name": "stderr",
     "output_type": "stream",
     "text": [
      "/home/azhx/anaconda3/envs/anisotropy/lib/python3.9/site-packages/sklearn/base.py:329: UserWarning: Trying to unpickle estimator TfidfTransformer from version 0.20.3 when using version 1.0.2. This might lead to breaking code or invalid results. Use at your own risk. For more info please refer to:\n",
      "https://scikit-learn.org/stable/modules/model_persistence.html#security-maintainability-limitations\n",
      "  warnings.warn(\n",
      "/home/azhx/anaconda3/envs/anisotropy/lib/python3.9/site-packages/sklearn/base.py:329: UserWarning: Trying to unpickle estimator TfidfVectorizer from version 0.20.3 when using version 1.0.2. This might lead to breaking code or invalid results. Use at your own risk. For more info please refer to:\n",
      "https://scikit-learn.org/stable/modules/model_persistence.html#security-maintainability-limitations\n",
      "  warnings.warn(\n"
     ]
    },
    {
     "name": "stdout",
     "output_type": "stream",
     "text": [
      "https://s3-us-west-2.amazonaws.com/ai2-s2-scispacy/data/linkers/2020-10-09/umls/concept_aliases.json not found in cache, downloading to /tmp/tmpampzyqdt\n",
      "Finished download, copying /tmp/tmpampzyqdt to cache at /home/azhx/.scispacy/datasets/1428ec15d3b1061731ea273c03699130b3d6b90948993e74bda66af605ff8e2a.aeb7a686c654df6bccb6c2c23d3eda3eb381daaefda4592b58158d0bee53b352.concept_aliases.json\n",
      "https://s3-us-west-2.amazonaws.com/ai2-s2-scispacy/data/kbs/2020-10-09/umls_2020_aa_cat0129.jsonl not found in cache, downloading to /tmp/tmpzq20ff25\n",
      "Finished download, copying /tmp/tmpzq20ff25 to cache at /home/azhx/.scispacy/datasets/4d7fb8fcae1035d1e0a47d9072b43d5a628057d35497fbfb2499b4b7b2dd4dd7.05ec7eef12f336d4666da85b7fa69b9401883a7dd4244473f7b88b413ccbba03.umls_2020_aa_cat0129.jsonl\n"
     ]
    }
   ],
   "source": [
    "nlp.add_pipe(\"scispacy_linker\", config={\"resolve_abbreviations\": False, \"linker_name\": \"umls\"})"
   ]
  },
  {
   "cell_type": "code",
   "execution_count": 3,
   "id": "e3e93f6c",
   "metadata": {
    "scrolled": true
   },
   "outputs": [
    {
     "data": {
      "text/plain": [
       "(melanoma,)"
      ]
     },
     "execution_count": 3,
     "metadata": {},
     "output_type": "execute_result"
    }
   ],
   "source": [
    "doc = nlp(\"melanoma\")\n",
    "entity = "
   ]
  },
  {
   "cell_type": "markdown",
   "id": "336275f9",
   "metadata": {},
   "source": [
    "# Plan of Attack\n",
    "\n",
    "read 5 papers, including ethayarjh, then write script to evaluate anisotropy of"
   ]
  },
  {
   "cell_type": "code",
   "execution_count": 7,
   "id": "7bed755e",
   "metadata": {},
   "outputs": [
    {
     "name": "stdout",
     "output_type": "stream",
     "text": [
      "2667587279770775948\n",
      "7425985699627899538\n",
      "2593208677638477497\n",
      "12646065887601541794\n",
      "886050111519832510\n",
      "2283656566040971221\n",
      "3002984154512732771\n",
      "3842344029291005339\n",
      "12638816674900267446\n",
      "3791531372978436496\n",
      "11901859001352538922\n"
     ]
    }
   ],
   "source": [
    "cnt = 0\n",
    "for vector in nlp.vocab.vectors:\n",
    "    if cnt > 10:\n",
    "        break\n",
    "        \n",
    "    print(vector)\n",
    "    cnt +=1 "
   ]
  },
  {
   "cell_type": "code",
   "execution_count": 14,
   "id": "fee8d2cf",
   "metadata": {},
   "outputs": [
    {
     "ename": "AttributeError",
     "evalue": "'spacy.strings.StringStore' object has no attribute 'items'",
     "output_type": "error",
     "traceback": [
      "\u001b[0;31m---------------------------------------------------------------------------\u001b[0m",
      "\u001b[0;31mAttributeError\u001b[0m                            Traceback (most recent call last)",
      "\u001b[0;32m/tmp/ipykernel_1491/321628888.py\u001b[0m in \u001b[0;36m<module>\u001b[0;34m\u001b[0m\n\u001b[0;32m----> 1\u001b[0;31m \u001b[0ma\u001b[0m \u001b[0;34m=\u001b[0m \u001b[0mnlp\u001b[0m\u001b[0;34m.\u001b[0m\u001b[0mvocab\u001b[0m\u001b[0;34m.\u001b[0m\u001b[0mstrings\u001b[0m\u001b[0;34m.\u001b[0m\u001b[0mitems\u001b[0m\u001b[0;34m(\u001b[0m\u001b[0;34m)\u001b[0m\u001b[0;34m[\u001b[0m\u001b[0;34m:\u001b[0m\u001b[0;36m10\u001b[0m\u001b[0;34m]\u001b[0m\u001b[0;34m\u001b[0m\u001b[0;34m\u001b[0m\u001b[0m\n\u001b[0m",
      "\u001b[0;31mAttributeError\u001b[0m: 'spacy.strings.StringStore' object has no attribute 'items'"
     ]
    }
   ],
   "source": [
    "strings = nlp.vocab.strings.keys()"
   ]
  },
  {
   "cell_type": "code",
   "execution_count": null,
   "id": "30d828f0",
   "metadata": {},
   "outputs": [],
   "source": []
  },
  {
   "cell_type": "code",
   "execution_count": null,
   "id": "ff3d1c13",
   "metadata": {},
   "outputs": [],
   "source": []
  }
 ],
 "metadata": {
  "kernelspec": {
   "display_name": "Python 3",
   "language": "python",
   "name": "python3"
  },
  "language_info": {
   "codemirror_mode": {
    "name": "ipython",
    "version": 3
   },
   "file_extension": ".py",
   "mimetype": "text/x-python",
   "name": "python",
   "nbconvert_exporter": "python",
   "pygments_lexer": "ipython3",
   "version": "3.9.7"
  }
 },
 "nbformat": 4,
 "nbformat_minor": 5
}
