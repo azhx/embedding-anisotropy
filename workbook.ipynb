{
 "cells": [
  {
   "cell_type": "code",
   "execution_count": 1,
   "id": "72a9b206",
   "metadata": {},
   "outputs": [],
   "source": [
    "\n",
    "import scispacy\n",
    "import spacy"
   ]
  },
  {
   "cell_type": "code",
   "execution_count": 2,
   "id": "2d17478b",
   "metadata": {},
   "outputs": [],
   "source": [
    "nlp = spacy.load(\"en_core_sci_lg\")"
   ]
  },
  {
   "cell_type": "code",
   "execution_count": 3,
   "id": "92759a5e",
   "metadata": {},
   "outputs": [
    {
     "data": {
      "text/plain": [
       "(melanoma,)"
      ]
     },
     "execution_count": 3,
     "metadata": {},
     "output_type": "execute_result"
    }
   ],
   "source": [
    "nlp(\"melanoma\").ents"
   ]
  },
  {
   "cell_type": "markdown",
   "id": "b0faf9fd",
   "metadata": {},
   "source": [
    "# Plan of Attack\n",
    "\n",
    "read 5 papers, including ethayarjh, then write script to evaluate anisotropy of"
   ]
  },
  {
   "cell_type": "code",
   "execution_count": 7,
   "id": "ec286e56",
   "metadata": {},
   "outputs": [
    {
     "name": "stdout",
     "output_type": "stream",
     "text": [
      "2667587279770775948\n",
      "7425985699627899538\n",
      "2593208677638477497\n",
      "12646065887601541794\n",
      "886050111519832510\n",
      "2283656566040971221\n",
      "3002984154512732771\n",
      "3842344029291005339\n",
      "12638816674900267446\n",
      "3791531372978436496\n",
      "11901859001352538922\n"
     ]
    }
   ],
   "source": [
    "cnt = 0\n",
    "for vector in nlp.vocab.vectors:\n",
    "    if cnt > 10:\n",
    "        break\n",
    "        \n",
    "    print(vector)\n",
    "    cnt +=1 "
   ]
  },
  {
   "cell_type": "code",
   "execution_count": 14,
   "id": "56a56342",
   "metadata": {},
   "outputs": [
    {
     "ename": "AttributeError",
     "evalue": "'spacy.strings.StringStore' object has no attribute 'items'",
     "output_type": "error",
     "traceback": [
      "\u001b[0;31m---------------------------------------------------------------------------\u001b[0m",
      "\u001b[0;31mAttributeError\u001b[0m                            Traceback (most recent call last)",
      "\u001b[0;32m/tmp/ipykernel_1491/321628888.py\u001b[0m in \u001b[0;36m<module>\u001b[0;34m\u001b[0m\n\u001b[0;32m----> 1\u001b[0;31m \u001b[0ma\u001b[0m \u001b[0;34m=\u001b[0m \u001b[0mnlp\u001b[0m\u001b[0;34m.\u001b[0m\u001b[0mvocab\u001b[0m\u001b[0;34m.\u001b[0m\u001b[0mstrings\u001b[0m\u001b[0;34m.\u001b[0m\u001b[0mitems\u001b[0m\u001b[0;34m(\u001b[0m\u001b[0;34m)\u001b[0m\u001b[0;34m[\u001b[0m\u001b[0;34m:\u001b[0m\u001b[0;36m10\u001b[0m\u001b[0;34m]\u001b[0m\u001b[0;34m\u001b[0m\u001b[0;34m\u001b[0m\u001b[0m\n\u001b[0m",
      "\u001b[0;31mAttributeError\u001b[0m: 'spacy.strings.StringStore' object has no attribute 'items'"
     ]
    }
   ],
   "source": [
    "strings = nlp.vocab.strings.keys()"
   ]
  },
  {
   "cell_type": "code",
   "execution_count": null,
   "id": "99e64f13",
   "metadata": {},
   "outputs": [],
   "source": []
  },
  {
   "cell_type": "code",
   "execution_count": null,
   "id": "7e4fb2b0",
   "metadata": {},
   "outputs": [],
   "source": []
  }
 ],
 "metadata": {
  "kernelspec": {
   "display_name": "alex",
   "language": "python",
   "name": "alex"
  },
  "language_info": {
   "codemirror_mode": {
    "name": "ipython",
    "version": 3
   },
   "file_extension": ".py",
   "mimetype": "text/x-python",
   "name": "python",
   "nbconvert_exporter": "python",
   "pygments_lexer": "ipython3",
   "version": "3.9.7"
  }
 },
 "nbformat": 4,
 "nbformat_minor": 5
}
