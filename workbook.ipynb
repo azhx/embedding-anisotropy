{
 "cells": [
  {
   "cell_type": "code",
   "execution_count": 1,
   "id": "72a9b206",
   "metadata": {},
   "outputs": [],
   "source": [
    "\n",
    "import scispacy\n",
    "import spacy"
   ]
  },
  {
   "cell_type": "code",
   "execution_count": 2,
   "id": "2d17478b",
   "metadata": {},
   "outputs": [],
   "source": [
    "nlp = spacy.load(\"en_core_sci_lg\")"
   ]
  },
  {
   "cell_type": "code",
   "execution_count": 9,
   "id": "92759a5e",
   "metadata": {},
   "outputs": [
    {
     "data": {
      "text/plain": [
       "(melanoma,)"
      ]
     },
     "execution_count": 9,
     "metadata": {},
     "output_type": "execute_result"
    }
   ],
   "source": [
    "nlp(\"melanoma\").ents"
   ]
  },
  {
   "cell_type": "markdown",
   "id": "a9ea227c",
   "metadata": {},
   "source": [
    "# Plan of Attack\n"
   ]
  },
  {
   "cell_type": "code",
   "execution_count": null,
   "id": "ec286e56",
   "metadata": {},
   "outputs": [],
   "source": [
    "#"
   ]
  },
  {
   "cell_type": "code",
   "execution_count": null,
   "id": "56a56342",
   "metadata": {},
   "outputs": [],
   "source": []
  },
  {
   "cell_type": "code",
   "execution_count": null,
   "id": "99e64f13",
   "metadata": {},
   "outputs": [],
   "source": []
  },
  {
   "cell_type": "code",
   "execution_count": null,
   "id": "7e4fb2b0",
   "metadata": {},
   "outputs": [],
   "source": []
  }
 ],
 "metadata": {
  "kernelspec": {
   "display_name": "Python (alex)",
   "language": "python",
   "name": "alex"
  },
  "language_info": {
   "codemirror_mode": {
    "name": "ipython",
    "version": 3
   },
   "file_extension": ".py",
   "mimetype": "text/x-python",
   "name": "python",
   "nbconvert_exporter": "python",
   "pygments_lexer": "ipython3",
   "version": "3.9.7"
  }
 },
 "nbformat": 4,
 "nbformat_minor": 5
}
